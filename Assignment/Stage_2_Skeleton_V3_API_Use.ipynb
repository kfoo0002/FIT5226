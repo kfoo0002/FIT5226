{
 "cells": [
  {
   "cell_type": "markdown",
   "metadata": {
    "id": "CL0TGkjHLvw7"
   },
   "source": [
    "## Demonstration of the API for the Stage 2 DQN Skeleton V3"
   ]
  },
  {
   "cell_type": "markdown",
   "metadata": {
    "id": "Kjj2Xlwcq-W6"
   },
   "source": [
    "The following two cells are only needed when working on CoLab. <br>Executing the next cell will ask for permission to access your gDrive. <br>You need to grant access to be able to use this code."
   ]
  },
  {
   "cell_type": "code",
   "execution_count": null,
   "metadata": {
    "colab": {
     "base_uri": "https://localhost:8080/"
    },
    "id": "-nm8KyiAqv97",
    "outputId": "f96f6227-04f9-43c8-fd5c-dac5e188d6ec"
   },
   "outputs": [],
   "source": [
    "moduleDirectory='/content/gdrive/My Drive/Colab Notebooks'\n",
    "from google.colab import drive\n",
    "drive.mount('/content/gdrive', force_remount=True)"
   ]
  },
  {
   "cell_type": "markdown",
   "metadata": {
    "id": "7oc6ZMBn0ILH"
   },
   "source": [
    "The next cell is only needed when working on CoLab."
   ]
  },
  {
   "cell_type": "code",
   "execution_count": null,
   "metadata": {
    "id": "5AhHqu7nrJpp"
   },
   "outputs": [],
   "source": [
    "import sys\n",
    "sys.path.insert(0,moduleDirectory)"
   ]
  },
  {
   "cell_type": "markdown",
   "metadata": {
    "id": "26ZUaHkUL8dD"
   },
   "source": [
    "First, you obvisouly need to import the skeleton code"
   ]
  },
  {
   "cell_type": "code",
   "execution_count": 1,
   "metadata": {
    "id": "aATxcjeOrKVN"
   },
   "outputs": [],
   "source": [
    "from stage2skeletonv3 import *"
   ]
  },
  {
   "cell_type": "markdown",
   "metadata": {
    "id": "gQpQ1T_sHtID"
   },
   "source": [
    "API Demonstration"
   ]
  },
  {
   "cell_type": "markdown",
   "metadata": {
    "id": "aEMyra_aMDJF"
   },
   "source": [
    "To set up the framework, call prepare_torch wihtout parameters, this yields a model object (the actual torch DQN, which you can but don't need to use later)."
   ]
  },
  {
   "cell_type": "code",
   "execution_count": 7,
   "metadata": {
    "id": "esoJ3f6hHrfo"
   },
   "outputs": [],
   "source": [
    "model = prepare_torch()"
   ]
  },
  {
   "cell_type": "markdown",
   "metadata": {
    "id": "KBHu0vXdMacC"
   },
   "source": [
    "A state description is a numpy float array of statespace size"
   ]
  },
  {
   "cell_type": "code",
   "execution_count": 10,
   "metadata": {
    "id": "U90e66kJnpPi"
   },
   "outputs": [],
   "source": [
    "statespace_size=7"
   ]
  },
  {
   "cell_type": "markdown",
   "metadata": {
    "id": "jONTm99x5lf7"
   },
   "source": [
    "Here we just generate a completely random state as a dummy"
   ]
  },
  {
   "cell_type": "code",
   "execution_count": 13,
   "metadata": {
    "id": "ImA1_kM4Ic5_"
   },
   "outputs": [],
   "source": [
    "import numpy as np\n",
    "\n",
    "state=np.random.rand(1,statespace_size)"
   ]
  },
  {
   "cell_type": "code",
   "execution_count": 15,
   "metadata": {},
   "outputs": [
    {
     "data": {
      "text/plain": [
       "array([[0.26912611, 0.85077179, 0.93500741, 0.66840311, 0.82502114,\n",
       "        0.02261351, 0.21622699]])"
      ]
     },
     "execution_count": 15,
     "metadata": {},
     "output_type": "execute_result"
    }
   ],
   "source": [
    "state"
   ]
  },
  {
   "cell_type": "markdown",
   "metadata": {
    "id": "2RV7pKzfMhOx"
   },
   "source": [
    "To get all Q values for a specific state call get_gvals with this state descriptor as the argument. This returns an array of floats (one Q value per action)"
   ]
  },
  {
   "cell_type": "code",
   "execution_count": 18,
   "metadata": {
    "colab": {
     "base_uri": "https://localhost:8080/"
    },
    "id": "1c-QODaLIl8M",
    "outputId": "25e1bc6b-e06b-4d3e-8b0a-f4168ea0fbae"
   },
   "outputs": [
    {
     "name": "stdout",
     "output_type": "stream",
     "text": [
      "[[ 0.16470289 -0.14507309  0.27415544  0.0360123 ]]\n"
     ]
    }
   ],
   "source": [
    "  qvals = get_qvals(state)\n",
    "  print(qvals)"
   ]
  },
  {
   "cell_type": "markdown",
   "metadata": {
    "id": "sXRZZs6FM0Ix"
   },
   "source": [
    "If you want only the maximum Q value for a state you can use get_maxQ instead. Note that this returns the float but as a torch tensor!"
   ]
  },
  {
   "cell_type": "code",
   "execution_count": 21,
   "metadata": {
    "colab": {
     "base_uri": "https://localhost:8080/"
    },
    "id": "vvUnmCPWIvAP",
    "outputId": "99e9d53f-eb56-455a-ae95-6921355d518b"
   },
   "outputs": [
    {
     "data": {
      "text/plain": [
       "tensor(0.2742, grad_fn=<MaxBackward1>)"
      ]
     },
     "execution_count": 21,
     "metadata": {},
     "output_type": "execute_result"
    }
   ],
   "source": [
    "get_maxQ(state)"
   ]
  },
  {
   "cell_type": "markdown",
   "metadata": {
    "id": "D4zd3KY0NABu"
   },
   "source": [
    "Nevermind that this is a PyTorch tensor, you can compute wiht this tensor (almost) as if it were a normal float"
   ]
  },
  {
   "cell_type": "code",
   "execution_count": 24,
   "metadata": {
    "colab": {
     "base_uri": "https://localhost:8080/"
    },
    "id": "WSXRov5SJrJb",
    "outputId": "86bc570a-7a54-4236-c339-645a7e1799af"
   },
   "outputs": [
    {
     "data": {
      "text/plain": [
       "tensor(1.0966, grad_fn=<MulBackward0>)"
      ]
     },
     "execution_count": 24,
     "metadata": {},
     "output_type": "execute_result"
    }
   ],
   "source": [
    "4*get_maxQ(state)"
   ]
  },
  {
   "cell_type": "markdown",
   "metadata": {},
   "source": [
    "You can, of ocurse, always extract the value as a normal Python value if you need to"
   ]
  },
  {
   "cell_type": "code",
   "execution_count": 27,
   "metadata": {},
   "outputs": [
    {
     "data": {
      "text/plain": [
       "0.2741554379463196"
      ]
     },
     "execution_count": 27,
     "metadata": {},
     "output_type": "execute_result"
    }
   ],
   "source": [
    "get_maxQ(state).item()"
   ]
  },
  {
   "cell_type": "markdown",
   "metadata": {
    "id": "GOOwx9gxNIeA"
   },
   "source": [
    "To perform a learning step, you operate on a minibatch of (state, action, target) triplets. These triplets are passes to the function train_one_step in three separate parallel lists, like so:"
   ]
  },
  {
   "cell_type": "code",
   "execution_count": 44,
   "metadata": {
    "id": "hsm4irAqKdZ_"
   },
   "outputs": [],
   "source": [
    "state1 = np.random.rand(1,statespace_size)\n",
    "state2 = np.random.rand(1,statespace_size)"
   ]
  },
  {
   "cell_type": "code",
   "execution_count": 46,
   "metadata": {
    "id": "Xg0LnLLiKxur"
   },
   "outputs": [],
   "source": [
    "action1 = np.random.randint(0,4)\n",
    "action2 = np.random.randint(0,4)"
   ]
  },
  {
   "cell_type": "raw",
   "metadata": {},
   "source": [
    "For the demonstration we generate two next states that are reached (here, also just random)"
   ]
  },
  {
   "cell_type": "code",
   "execution_count": 48,
   "metadata": {},
   "outputs": [],
   "source": [
    "state1_next = np.random.rand(1,statespace_size)\n",
    "state2_next = np.random.rand(1,statespace_size)"
   ]
  },
  {
   "cell_type": "markdown",
   "metadata": {
    "id": "PkvQ214n6lAD"
   },
   "source": [
    "Recall that the TD-target is Reward+DiscountFactor*MaxQ(next state)"
   ]
  },
  {
   "cell_type": "code",
   "execution_count": 63,
   "metadata": {},
   "outputs": [],
   "source": [
    "reward1=11\n",
    "reward2=22\n",
    "discount=0.9"
   ]
  },
  {
   "cell_type": "code",
   "execution_count": 65,
   "metadata": {
    "id": "jsfm4mPxK5pL"
   },
   "outputs": [],
   "source": [
    "TD_target1 = reward1+discount*get_maxQ(state1_next)\n",
    "TD_target2 = reward2+discount*get_maxQ(state2_next)"
   ]
  },
  {
   "cell_type": "markdown",
   "metadata": {},
   "source": [
    "We are now ready to generate a mini batch of 2 transitions (which we would normally retrieve from a replay buffer)"
   ]
  },
  {
   "cell_type": "code",
   "execution_count": 54,
   "metadata": {
    "id": "_4Q-9NoLLQlx"
   },
   "outputs": [],
   "source": [
    "states=[state1,state2] # note that these are the start states\n",
    "actions=[action1,action2]\n",
    "targets=[TD_target1,TD_target2] # we don't need the next states as these have already been processed in the TD targets"
   ]
  },
  {
   "cell_type": "markdown",
   "metadata": {
    "id": "O5f9J2TQNlk2"
   },
   "source": [
    "Finally, you also need to pass the discount rate, which is just a float. Note that this is just a technicality as it is not longer used by this function. However, the API is still defined in this way (we may remove this in the next version)."
   ]
  },
  {
   "cell_type": "code",
   "execution_count": 57,
   "metadata": {
    "id": "ACWeGE5jLahU"
   },
   "outputs": [],
   "source": [
    "gamma=0.95"
   ]
  },
  {
   "cell_type": "code",
   "execution_count": 59,
   "metadata": {
    "id": "immnHIUMJw1v"
   },
   "outputs": [],
   "source": [
    "current_loss = train_one_step(states, actions, targets, gamma)"
   ]
  },
  {
   "cell_type": "markdown",
   "metadata": {
    "id": "t8_T-kjIOiT9"
   },
   "source": [
    "This returns the current DQN loss, which you may but don't have to use for monitoring and debugging purposes."
   ]
  },
  {
   "cell_type": "code",
   "execution_count": 44,
   "metadata": {
    "colab": {
     "base_uri": "https://localhost:8080/"
    },
    "id": "8aIzmSiZLd-u",
    "outputId": "5e729c67-5e2f-4675-f5e7-b03cb3ef76f1"
   },
   "outputs": [
    {
     "data": {
      "text/plain": [
       "581.3977661132812"
      ]
     },
     "execution_count": 44,
     "metadata": {},
     "output_type": "execute_result"
    }
   ],
   "source": [
    "current_loss"
   ]
  },
  {
   "cell_type": "markdown",
   "metadata": {
    "id": "YEX91l1tOrLw"
   },
   "source": [
    "Finally, you need to copy the prediction model to the target model every now and then. Both models are handled automatically behind the scenes, but you decide on when this update happens using the update_target function."
   ]
  },
  {
   "cell_type": "code",
   "execution_count": 61,
   "metadata": {
    "id": "ZzZodjaSJ-0u"
   },
   "outputs": [],
   "source": [
    "update_target()"
   ]
  },
  {
   "cell_type": "code",
   "execution_count": null,
   "metadata": {},
   "outputs": [],
   "source": []
  }
 ],
 "metadata": {
  "colab": {
   "provenance": []
  },
  "kernelspec": {
   "display_name": "Python 3 (ipykernel)",
   "language": "python",
   "name": "python3"
  },
  "language_info": {
   "codemirror_mode": {
    "name": "ipython",
    "version": 3
   },
   "file_extension": ".py",
   "mimetype": "text/x-python",
   "name": "python",
   "nbconvert_exporter": "python",
   "pygments_lexer": "ipython3",
   "version": "3.11.7"
  }
 },
 "nbformat": 4,
 "nbformat_minor": 4
}
