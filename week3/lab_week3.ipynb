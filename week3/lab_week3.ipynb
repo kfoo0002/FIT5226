{
 "cells": [
  {
   "cell_type": "code",
   "execution_count": null,
   "id": "cf35805f-2f74-4e83-835a-a78d603c0d29",
   "metadata": {},
   "outputs": [],
   "source": [
    "# Task 1.1 "
   ]
  },
  {
   "cell_type": "code",
   "execution_count": 7,
   "id": "903c2838-02ab-4b47-809d-787d33ebf8af",
   "metadata": {},
   "outputs": [],
   "source": [
    "import numpy as np\n",
    "import numpy.linalg as la"
   ]
  },
  {
   "cell_type": "code",
   "execution_count": 11,
   "id": "1d02fc1f-fbdd-44ba-b8e8-34a4ba1f54d1",
   "metadata": {},
   "outputs": [],
   "source": [
    "# Create a  matrix with sample values\n",
    "T = np.array([\n",
    "    [0.8, 0, 0.2, 0],\n",
    "    [0.05, 0.93, 0.02, 0],\n",
    "    [0.8, 0.1, 0, 0.1],\n",
    "    [0.0, 0.5, 0, 0.5]\n",
    "])\n"
   ]
  },
  {
   "cell_type": "code",
   "execution_count": 39,
   "id": "19dd1ccd-1f79-4c2e-afa1-b1a8e950b2b0",
   "metadata": {},
   "outputs": [
    {
     "data": {
      "text/plain": [
       "array([[0.769   , 0.0446  , 0.1604  , 0.026   ],\n",
       "       [0.148225, 0.810077, 0.037838, 0.00386 ],\n",
       "       [0.65275 , 0.17419 , 0.13186 , 0.0412  ],\n",
       "       [0.06375 , 0.79095 , 0.0193  , 0.126   ]])"
      ]
     },
     "execution_count": 39,
     "metadata": {},
     "output_type": "execute_result"
    }
   ],
   "source": [
    "# Method 1\n",
    "n=3\n",
    "la.matrix_power(T, n)"
   ]
  },
  {
   "cell_type": "code",
   "execution_count": 17,
   "id": "fc37e6c1-9ccb-4bec-b6f6-1f02adb9f877",
   "metadata": {
    "scrolled": true
   },
   "outputs": [
    {
     "data": {
      "text/plain": [
       "array([[0.53745928, 0.3257329 , 0.11400651, 0.0228013 ],\n",
       "       [0.53745928, 0.3257329 , 0.11400651, 0.0228013 ],\n",
       "       [0.53745928, 0.3257329 , 0.11400651, 0.0228013 ],\n",
       "       [0.53745928, 0.3257329 , 0.11400651, 0.0228013 ]])"
      ]
     },
     "execution_count": 17,
     "metadata": {},
     "output_type": "execute_result"
    }
   ],
   "source": [
    "n=1000\n",
    "la.matrix_power(T, n)"
   ]
  },
  {
   "cell_type": "code",
   "execution_count": 41,
   "id": "72902596-be2c-4948-93b0-e2e2b0b299f7",
   "metadata": {},
   "outputs": [],
   "source": [
    "# Method 2: using eigenvector & eigenvalue "
   ]
  },
  {
   "cell_type": "code",
   "execution_count": 19,
   "id": "1918fa4b-8510-448a-bf64-6416d2a4d8b9",
   "metadata": {},
   "outputs": [],
   "source": [
    "eigenvalues, eigenvectors = np.linalg.eig(T)"
   ]
  },
  {
   "cell_type": "code",
   "execution_count": 25,
   "id": "e856572f-bfa8-4088-af6b-44b6d09628fb",
   "metadata": {},
   "outputs": [],
   "source": [
    "#Raise the diagonal matrix of eigenvalues to the desired power:\n",
    "n = 3\n",
    "power_n = np.diag(eigenvalues ** n)"
   ]
  },
  {
   "cell_type": "code",
   "execution_count": 27,
   "id": "cc95de5e-6229-4442-8a14-9dff9173ff26",
   "metadata": {},
   "outputs": [],
   "source": [
    "#Compute the inverse of the eigenvector matrix:\n",
    "Q_inv = np.linalg.inv(eigenvectors)"
   ]
  },
  {
   "cell_type": "code",
   "execution_count": 33,
   "id": "ad973614-6b79-4884-8e04-b073be90223d",
   "metadata": {},
   "outputs": [],
   "source": [
    "T2 = eigenvectors @ power_n @ Q_inv"
   ]
  },
  {
   "cell_type": "code",
   "execution_count": 35,
   "id": "133f6608-4890-4c52-b12b-14f0921e8c7e",
   "metadata": {},
   "outputs": [
    {
     "data": {
      "text/plain": [
       "array([[0.769   , 0.0446  , 0.1604  , 0.026   ],\n",
       "       [0.148225, 0.810077, 0.037838, 0.00386 ],\n",
       "       [0.65275 , 0.17419 , 0.13186 , 0.0412  ],\n",
       "       [0.06375 , 0.79095 , 0.0193  , 0.126   ]])"
      ]
     },
     "execution_count": 35,
     "metadata": {},
     "output_type": "execute_result"
    }
   ],
   "source": [
    "T2"
   ]
  },
  {
   "cell_type": "code",
   "execution_count": null,
   "id": "7efe5d04-d529-48b8-9353-dd5684f9e2f1",
   "metadata": {},
   "outputs": [],
   "source": []
  }
 ],
 "metadata": {
  "kernelspec": {
   "display_name": "Python 3 (ipykernel)",
   "language": "python",
   "name": "python3"
  },
  "language_info": {
   "codemirror_mode": {
    "name": "ipython",
    "version": 3
   },
   "file_extension": ".py",
   "mimetype": "text/x-python",
   "name": "python",
   "nbconvert_exporter": "python",
   "pygments_lexer": "ipython3",
   "version": "3.12.4"
  }
 },
 "nbformat": 4,
 "nbformat_minor": 5
}
