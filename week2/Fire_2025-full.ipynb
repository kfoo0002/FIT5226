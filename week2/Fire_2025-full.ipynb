{
 "cells": [
  {
   "cell_type": "code",
   "execution_count": 1,
   "id": "1e460d38",
   "metadata": {
    "id": "1e460d38"
   },
   "outputs": [],
   "source": [
    "# %matplotlib ipympl"
   ]
  },
  {
   "cell_type": "code",
   "execution_count": 4,
   "id": "7c9cfdce-e124-4956-b113-52e4585c5ad2",
   "metadata": {},
   "outputs": [],
   "source": [
    "# %matplotlib inline"
   ]
  },
  {
   "cell_type": "code",
   "execution_count": 1,
   "id": "2ace42c0-49eb-4f8c-b0da-8bdce0355f03",
   "metadata": {},
   "outputs": [],
   "source": [
    "%matplotlib tk"
   ]
  },
  {
   "cell_type": "code",
   "execution_count": 3,
   "id": "e6256163",
   "metadata": {
    "id": "e6256163"
   },
   "outputs": [],
   "source": [
    "import numpy as np\n",
    "import matplotlib.pyplot as plt\n",
    "from matplotlib import animation\n",
    "from matplotlib import colors\n",
    "from matplotlib.widgets import Button, Slider"
   ]
  },
  {
   "cell_type": "code",
   "execution_count": 5,
   "id": "b24f0285",
   "metadata": {
    "id": "b24f0285"
   },
   "outputs": [],
   "source": [
    "# Displacements from a cell to its eight nearest neighbours\n",
    "neighbourhood = ((-1,-1), (-1,0), (-1,1), (0,-1), (0, 1), (1,-1), (1,0), (1,1))\n",
    "EMPTY, TREE, FIRE = 0, 1, 2\n",
    "# Colours for visualization: brown for EMPTY, dark green for TREE and orange\n",
    "# for FIRE. Note that for the colormap to work, this list and the bounds list\n",
    "# must be one larger than the number of different values in the array.\n",
    "colors_list = [(0.2,0,0), (0,0.5,0), (1,0,0), 'orange']\n",
    "cmap = colors.ListedColormap(colors_list)\n",
    "bounds = [0,1,2,3]\n",
    "norm = colors.BoundaryNorm(bounds, cmap.N)"
   ]
  },
  {
   "cell_type": "code",
   "execution_count": 7,
   "id": "02bf792c",
   "metadata": {
    "id": "02bf792c"
   },
   "outputs": [],
   "source": [
    "# The initial fraction of the forest occupied by trees.\n",
    "forest_fraction = 0.65\n",
    "# Probability of new tree growth per empty cell, and of lightning strike.\n",
    "# p, f = 0.05, 0.0001\n",
    "# here adjusted to align with lecture example\n",
    "p = 0\n",
    "f = 0\n",
    "# Forest size (number of cells in x and y directions).\n",
    "nx, ny = 100, 100"
   ]
  },
  {
   "cell_type": "code",
   "execution_count": 9,
   "id": "9ab4698b",
   "metadata": {
    "id": "9ab4698b"
   },
   "outputs": [],
   "source": [
    "def iterate(X):\n",
    "    \"\"\"Iterate the forest according to the forest-fire rules.\"\"\"\n",
    "\n",
    "    # The boundary of the forest is always empty, so only consider cells\n",
    "    # indexed from 1 to nx-2, 1 to ny-2\n",
    "    X1 = np.zeros((ny, nx))\n",
    "    for ix in range(1,nx-1):\n",
    "        for iy in range(1,ny-1):\n",
    "            if X[iy,ix] == EMPTY and np.random.random() <= p:\n",
    "                X1[iy,ix] = TREE\n",
    "            if X[iy,ix] == TREE:\n",
    "                X1[iy,ix] = TREE\n",
    "                for dx,dy in neighbourhood:\n",
    "                    # The diagonally-adjacent trees are further away, so\n",
    "                    # only catch fire with a reduced probability:\n",
    "                    if abs(dx) == abs(dy) and np.random.random() < 0.573:\n",
    "                        continue\n",
    "                    if X[iy+dy,ix+dx] == FIRE:\n",
    "                        X1[iy,ix] = FIRE\n",
    "                        break\n",
    "                else:\n",
    "                    if np.random.random() <= f:\n",
    "                        X1[iy,ix] = FIRE\n",
    "    return X1\n"
   ]
  },
  {
   "cell_type": "code",
   "execution_count": 11,
   "id": "cfa040b6",
   "metadata": {
    "id": "cfa040b6"
   },
   "outputs": [],
   "source": [
    "# Initialize the forest grid.\n",
    "X  = np.zeros((ny, nx))\n",
    "\n",
    "def init(forest_fraction):\n",
    "    global X\n",
    "    X[1:ny-1, 1:nx-1] = np.random.randint(0, 2, size=(ny-2, nx-2))\n",
    "    X[1:ny-1, 1:nx-1] = np.random.random(size=(ny-2, nx-2)) < forest_fraction"
   ]
  },
  {
   "cell_type": "code",
   "execution_count": 13,
   "id": "0d5dedd6",
   "metadata": {
    "id": "0d5dedd6"
   },
   "outputs": [],
   "source": [
    "def animate(i):\n",
    "    im.set_data(animate.X)\n",
    "    animate.X = iterate(animate.X)"
   ]
  },
  {
   "cell_type": "code",
   "execution_count": 15,
   "id": "127acfa6-771a-4ac6-9175-0af530dd13fd",
   "metadata": {},
   "outputs": [],
   "source": [
    "def simulation(density):\n",
    "    global fig, ax, bnext, bstart, bstop, binit, time, anim,im\n",
    "    # apparently the buttons need to be declared as global to avoid \n",
    "    # that they are garbage-collected. If this happens they will still be visible but become inactive\n",
    "\n",
    "    def advance(d):\n",
    "        global time, im\n",
    "        time += 1\n",
    "        im.set_data(animate.X)\n",
    "        animate.X = iterate(animate.X)\n",
    "        plt.title('t = ' + str(time))    \n",
    "        fig.canvas.draw_idle()\n",
    "\n",
    "    def stopAnim(d):\n",
    "        global anim\n",
    "        anim.pause()\n",
    "\n",
    "    def startAnim(d):\n",
    "        global anim\n",
    "        anim.resume()\n",
    "\n",
    "    def initAnim(d):\n",
    "        global X, TREE, FIRE,im\n",
    "        global mat, plt, time\n",
    "        global density\n",
    "        time = 0\n",
    "        init(density)\n",
    "        animate.X = X\n",
    "        started = False\n",
    "        while not started:\n",
    "            xs = np.random.randint(0,nx-1)\n",
    "            ys = np.random.randint(0,ny-1)\n",
    "            if X[ys,xs] == TREE:\n",
    "                X[ys,xs] = FIRE\n",
    "                started = True\n",
    "        im.set_data(X)\n",
    "        plt.title('t = ' + str(time))    \n",
    "        fig.canvas.draw_idle() \n",
    "\n",
    "    def updateDensity(val):\n",
    "        global density\n",
    "        density = sdensity.val\n",
    "\n",
    "    plt.close('all')\n",
    "    fig, ax = plt.subplots()\n",
    "    ax.axis('off')\n",
    "    plt.title(\"Forest Fire Percolation Model\")\n",
    "\n",
    "    axdensity = plt.axes([0.175, 0.05, 0.65, 0.03])\n",
    "    sdensity = Slider(axdensity, 'Threshold', 0.0, 1.0, valinit=density)\n",
    "    sdensity.on_changed(updateDensity)\n",
    "\n",
    "    axnext = plt.axes([0.85, 0.15, 0.1, 0.075])\n",
    "    axstart = plt.axes([0.85, 0.25, 0.1, 0.075])\n",
    "    axstop = plt.axes([0.85, 0.35, 0.1, 0.075])\n",
    "    axinit = plt.axes([0.85, 0.45, 0.1, 0.075])\n",
    "    bnext = Button(axnext, 'Next')\n",
    "    bnext.on_clicked(advance)\n",
    "    bstart = Button(axstart, 'Resume')\n",
    "    bstart.on_clicked(startAnim)\n",
    "    bstop = Button(axstop, 'Stop')\n",
    "    bstop.on_clicked(stopAnim)\n",
    "    binit = Button(axinit, 'Init')\n",
    "    binit.on_clicked(initAnim)\n",
    "    im = ax.imshow(X, cmap=cmap, norm=norm)\n",
    "\n",
    "    initAnim(None)\n",
    "    anim = animation.FuncAnimation(fig, advance, frames=None, cache_frame_data=False, interval=60, repeat=False)"
   ]
  },
  {
   "cell_type": "code",
   "execution_count": 17,
   "id": "336fafd5-72bb-4fca-bee1-b102e0b5205b",
   "metadata": {},
   "outputs": [],
   "source": [
    "density=0.7\n",
    "threshold =0.7\n",
    "simulation(density)"
   ]
  },
  {
   "cell_type": "code",
   "execution_count": null,
   "id": "8646914f-c1fd-418d-8736-bd6d9c1762be",
   "metadata": {},
   "outputs": [],
   "source": []
  }
 ],
 "metadata": {
  "colab": {
   "provenance": []
  },
  "kernelspec": {
   "display_name": "Python 3 (ipykernel)",
   "language": "python",
   "name": "python3"
  },
  "language_info": {
   "codemirror_mode": {
    "name": "ipython",
    "version": 3
   },
   "file_extension": ".py",
   "mimetype": "text/x-python",
   "name": "python",
   "nbconvert_exporter": "python",
   "pygments_lexer": "ipython3",
   "version": "3.12.4"
  }
 },
 "nbformat": 4,
 "nbformat_minor": 5
}
