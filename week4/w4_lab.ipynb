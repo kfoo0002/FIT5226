{
 "cells": [
  {
   "cell_type": "code",
   "execution_count": 1,
   "id": "8cce8411-ab49-4f4d-b5ae-81af28d5b70b",
   "metadata": {},
   "outputs": [],
   "source": [
    "# CHECKING \n",
    "import mdptoolbox.example\n",
    "\n",
    "P, R = mdptoolbox.example.forest()\n",
    "vi = mdptoolbox.mdp.ValueIteration(P, R, 0.9)\n",
    "vi.run()\n",
    "vi.policy # result is (0, 0, 0)"
   ]
  },
  {
   "cell_type": "code",
   "execution_count": 7,
   "id": "f71d66af-5d0e-430c-ba14-01f989bb139f",
   "metadata": {},
   "outputs": [],
   "source": [
    "import numpy as np"
   ]
  },
  {
   "cell_type": "code",
   "execution_count": 39,
   "id": "f4f86e63-7131-4895-881a-898f301f4447",
   "metadata": {},
   "outputs": [],
   "source": [
    "# Q2. Define the Markov Chain Transition Matrix [h,s,c,m,d]\n",
    "P = np.array([\n",
    "    [0.5, 0.0, 0.4, 0.0, 0.1],  # Home transitions\n",
    "    [0.4, 0.4, 0.0, 0.0, 0.2],  # Shelter transitions\n",
    "    [0.0, 0.0, 0.5, 0.4, 0.1],  # City transitions\n",
    "    [0.0, 0.2, 0.0, 0.6, 0.2],  # Market transitions\n",
    "    [0.0, 0.0, 0.0, 0.0, 1.0]   # Dead state (absorbing state)\n",
    "])\n"
   ]
  },
  {
   "cell_type": "code",
   "execution_count": 41,
   "id": "3781d465-eae9-4a60-8540-3e19161a0eb3",
   "metadata": {},
   "outputs": [],
   "source": [
    "# Q3. Define the Reward Matrix\n",
    "R = np.array([0.4, 0.2, 0.3, 0.7, 0.0])"
   ]
  },
  {
   "cell_type": "code",
   "execution_count": 43,
   "id": "0b36dc7f-6b71-44ca-babd-7fcf995f52ab",
   "metadata": {},
   "outputs": [],
   "source": [
    "# Q4. Markov Reward Process - Bellman equation (closed form)\n",
    "\n",
    "# discount factor\n",
    "gamma = 0.9 # cannot be 1 , discount factor has to be <1\n",
    "\n",
    "# Identity matrix \n",
    "I = np.identity(len(P))\n",
    "\n",
    "# Compute v \n",
    "V = np.matmul(np.linalg.inv( I - gamma * P) , R)"
   ]
  },
  {
   "cell_type": "code",
   "execution_count": 45,
   "id": "99becc2f-a113-4ed0-b917-7c5bdd298ba1",
   "metadata": {},
   "outputs": [
    {
     "data": {
      "text/plain": [
       "array([1.9748786 , 1.42336921, 1.90606453, 2.07870969, 0.        ])"
      ]
     },
     "execution_count": 45,
     "metadata": {},
     "output_type": "execute_result"
    }
   ],
   "source": [
    "V"
   ]
  },
  {
   "cell_type": "code",
   "execution_count": null,
   "id": "0309778c-c333-4853-ae6c-2fd5cc9773df",
   "metadata": {},
   "outputs": [],
   "source": [
    "# Q5. Markov Decision Process\n",
    "\n",
    "P_stay = np.array([\n",
    "       [1, 0, 0, 0, 0],\n",
    "       [0, 1, 0, 0, 0],\n",
    "       [0, 0, 1, 0, 0],\n",
    "       [0, 0, 0, 1, 0],\n",
    "       [0, 0, 0, 0, 1]])\n",
    "\n",
    "P_run = np.array([\n",
    "       [0.0, 0.0, 0.4, 0.0, 0.1], #H\n",
    "       [0.4, 0.0, 0.0, 0.2, 0.2], #S\n",
    "       [0.0, 0.0, 0.0, 0.4, 0.1], #C\n",
    "       [0.0, 0.2, 0.0, 0.0, 0.2], #M\n",
    "       [0.0, 0.0, 0.0, 0.0, 1]]) #D"
   ]
  },
  {
   "cell_type": "code",
   "execution_count": null,
   "id": "758b7d63-0cc8-4656-aac4-d1a8a0daade9",
   "metadata": {},
   "outputs": [],
   "source": []
  }
 ],
 "metadata": {
  "kernelspec": {
   "display_name": "Python 3 (ipykernel)",
   "language": "python",
   "name": "python3"
  },
  "language_info": {
   "codemirror_mode": {
    "name": "ipython",
    "version": 3
   },
   "file_extension": ".py",
   "mimetype": "text/x-python",
   "name": "python",
   "nbconvert_exporter": "python",
   "pygments_lexer": "ipython3",
   "version": "3.12.4"
  }
 },
 "nbformat": 4,
 "nbformat_minor": 5
}
